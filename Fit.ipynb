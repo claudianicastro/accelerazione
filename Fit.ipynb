{
 "cells": [
  {
   "cell_type": "code",
   "execution_count": 2,
   "metadata": {},
   "outputs": [],
   "source": [
    "import scipy as sp\n",
    "import pandas as pd\n",
    "import matplotlib.pyplot as plt\n",
    "import numpy as np\n",
    "from scipy import stats\n",
    "import math \n",
    "from math import log10, floor, sqrt\n",
    "import my_lib as my"
   ]
  },
  {
   "cell_type": "code",
   "execution_count": null,
   "metadata": {},
   "outputs": [],
   "source": []
  },
  {
   "cell_type": "code",
   "execution_count": 3,
   "metadata": {},
   "outputs": [
    {
     "data": {
      "text/html": [
       "<div>\n",
       "<style scoped>\n",
       "    .dataframe tbody tr th:only-of-type {\n",
       "        vertical-align: middle;\n",
       "    }\n",
       "\n",
       "    .dataframe tbody tr th {\n",
       "        vertical-align: top;\n",
       "    }\n",
       "\n",
       "    .dataframe thead th {\n",
       "        text-align: right;\n",
       "    }\n",
       "</style>\n",
       "<table border=\"1\" class=\"dataframe\">\n",
       "  <thead>\n",
       "    <tr style=\"text-align: right;\">\n",
       "      <th></th>\n",
       "      <th>x</th>\n",
       "      <th>T^2</th>\n",
       "    </tr>\n",
       "  </thead>\n",
       "  <tbody>\n",
       "    <tr>\n",
       "      <th>0</th>\n",
       "      <td>0.61</td>\n",
       "      <td>2.48</td>\n",
       "    </tr>\n",
       "    <tr>\n",
       "      <th>1</th>\n",
       "      <td>0.50</td>\n",
       "      <td>2.04</td>\n",
       "    </tr>\n",
       "    <tr>\n",
       "      <th>2</th>\n",
       "      <td>0.40</td>\n",
       "      <td>1.64</td>\n",
       "    </tr>\n",
       "    <tr>\n",
       "      <th>3</th>\n",
       "      <td>0.30</td>\n",
       "      <td>1.23</td>\n",
       "    </tr>\n",
       "  </tbody>\n",
       "</table>\n",
       "</div>"
      ],
      "text/plain": [
       "      x   T^2\n",
       "0  0.61  2.48\n",
       "1  0.50  2.04\n",
       "2  0.40  1.64\n",
       "3  0.30  1.23"
      ]
     },
     "execution_count": 3,
     "metadata": {},
     "output_type": "execute_result"
    }
   ],
   "source": [
    "df = pd.read_csv('PERIODI2.csv')\n",
    "df.head()"
   ]
  },
  {
   "cell_type": "code",
   "execution_count": 4,
   "metadata": {},
   "outputs": [],
   "source": [
    "colx='x'\n",
    "x=df[colx]\n",
    "x\n",
    "X=np.mean(x)\n"
   ]
  },
  {
   "cell_type": "code",
   "execution_count": 5,
   "metadata": {},
   "outputs": [],
   "source": [
    "sigma=np.std(x)"
   ]
  },
  {
   "cell_type": "code",
   "execution_count": 6,
   "metadata": {},
   "outputs": [
    {
     "data": {
      "text/plain": [
       "0.013268749999999998"
      ]
     },
     "execution_count": 6,
     "metadata": {},
     "output_type": "execute_result"
    }
   ],
   "source": [
    "Var=pow(sigma,2)\n",
    "Var"
   ]
  },
  {
   "cell_type": "code",
   "execution_count": 7,
   "metadata": {},
   "outputs": [
    {
     "data": {
      "text/plain": [
       "0    2.48\n",
       "1    2.04\n",
       "2    1.64\n",
       "3    1.23\n",
       "Name: T^2, dtype: float64"
      ]
     },
     "execution_count": 7,
     "metadata": {},
     "output_type": "execute_result"
    }
   ],
   "source": [
    "coly='T^2'\n",
    "y=df[coly]\n",
    "Y=np.mean(y)\n",
    "y"
   ]
  },
  {
   "cell_type": "code",
   "execution_count": null,
   "metadata": {},
   "outputs": [],
   "source": []
  },
  {
   "cell_type": "code",
   "execution_count": 8,
   "metadata": {},
   "outputs": [],
   "source": [
    "sd_y = df[coly].std()"
   ]
  },
  {
   "cell_type": "code",
   "execution_count": 9,
   "metadata": {},
   "outputs": [
    {
     "data": {
      "text/plain": [
       "0.5358715642141626"
      ]
     },
     "execution_count": 9,
     "metadata": {},
     "output_type": "execute_result"
    }
   ],
   "source": [
    "sd_y"
   ]
  },
  {
   "cell_type": "code",
   "execution_count": 10,
   "metadata": {},
   "outputs": [],
   "source": [
    "def cov(a, b):\n",
    "\n",
    "       if len(a) != len(b):\n",
    "           return\n",
    "\n",
    "       a_mean = np.mean(a)\n",
    "       b_mean = np.mean(b)\n",
    "\n",
    "       sum = 0\n",
    "\n",
    "       for i in range(0, len(a)):\n",
    "           sum += ((a[i] - a_mean) * (b[i] - b_mean))\n",
    "\n",
    "       return sum/(len(a)-1)\n"
   ]
  },
  {
   "cell_type": "code",
   "execution_count": 11,
   "metadata": {},
   "outputs": [
    {
     "data": {
      "text/plain": [
       "0.07127499999999999"
      ]
     },
     "execution_count": 11,
     "metadata": {},
     "output_type": "execute_result"
    }
   ],
   "source": [
    "cov(x,y)"
   ]
  },
  {
   "cell_type": "code",
   "execution_count": 12,
   "metadata": {},
   "outputs": [
    {
     "data": {
      "text/plain": [
       "5.37164390014131"
      ]
     },
     "execution_count": 12,
     "metadata": {},
     "output_type": "execute_result"
    }
   ],
   "source": [
    "mu_m1= cov(x,y)/Var\n",
    "mu_m1\n"
   ]
  },
  {
   "cell_type": "code",
   "execution_count": 13,
   "metadata": {},
   "outputs": [
    {
     "data": {
      "text/plain": [
       "-0.5831688648139428"
      ]
     },
     "execution_count": 13,
     "metadata": {},
     "output_type": "execute_result"
    }
   ],
   "source": [
    "mu_c1= Y-(mu_m1*X)\n",
    "mu_c1"
   ]
  },
  {
   "cell_type": "code",
   "execution_count": 17,
   "metadata": {},
   "outputs": [
    {
     "data": {
      "text/plain": [
       "Text(0, 0.5, 'T^2')"
      ]
     },
     "execution_count": 17,
     "metadata": {},
     "output_type": "execute_result"
    },
    {
     "data": {
      "image/png": "[encoded data removed]",
      "text/plain": [
       "<Figure size 432x288 with 1 Axes>"
      ]
     },
     "metadata": {
      "needs_background": "light"
     },
     "output_type": "display_data"
    }
   ],
   "source": [
    "plt.plot (x, y)\n",
    "plt.xlabel('l[m]')\n",
    "plt.ylabel('T^2')\n"
   ]
  },
  {
   "cell_type": "code",
   "execution_count": 14,
   "metadata": {},
   "outputs": [],
   "source": [
    "# funzione per valore atteso pesato per 1/$\\sigma_i^2$\n",
    "def my_mean(x, w):\n",
    "    return np.sum( x*np.power(w, -2) ) / np.sum( np.power(w, -2) )\n",
    "\n",
    "def my_cov(x, y, w):\n",
    "    return my_mean(x*y, w) - my_mean(x, w)*my_mean(y, w)\n",
    "\n",
    "def my_var(x, w):\n",
    "    return my_cov(x, x, w)"
   ]
  },
  {
   "cell_type": "code",
   "execution_count": 23,
   "metadata": {},
   "outputs": [
    {
     "data": {
      "text/plain": [
       "-2.4309111111111106"
      ]
     },
     "execution_count": 23,
     "metadata": {},
     "output_type": "execute_result"
    }
   ],
   "source": [
    "my_var(x, sigma)"
   ]
  },
  {
   "cell_type": "code",
   "execution_count": 15,
   "metadata": {},
   "outputs": [],
   "source": [
    "# funzione che calcola m, c, sd_m, sd_c, cov_mc a partire da\n",
    "# x, y, sd_y\n",
    "def my_fit(x, y, sd_y, verbose=True):\n",
    "    m = my_cov(x, y, sd_y) / my_var(x, sd_y)\n",
    "    var_m = 1 / ( my_var(x, sd_y) * np.sum( np.power(sd_y, -2)) )\n",
    "    c = np.mean(y) - np.mean(x) * m\n",
    "    var_c = my_mean(x*x, sd_y)  / ( my_var(x, sd_y) * np.sum( np.power(sd_y, -2)))\n",
    "    cov_mc = - my_mean(x, sd_y) / ( my_var(x, sd_y) * np.sum( np.power(sd_y, -2))) \n",
    "    if (verbose):\n",
    "        print ('m         = ', my.round_sig(m, 2))\n",
    "        print ('sigma(m)  = ', my.round_sig(np.sqrt(var_m), 2))\n",
    "        print ('c         = ', my.round_sig(c, 2))\n",
    "        print ('sigma(c)  = ', my.round_sig(np.sqrt(var_c), 2))\n",
    "        print ('cov(m, c) = ', my.round_sig(cov_mc, 2))\n",
    "        \n",
    "    return m, np.sqrt(var_m), c, np.sqrt(var_c), cov_mc"
   ]
  },
  {
   "cell_type": "code",
   "execution_count": 24,
   "metadata": {},
   "outputs": [
    {
     "data": {
      "text/plain": [
       "3.482399373168112"
      ]
     },
     "execution_count": 24,
     "metadata": {},
     "output_type": "execute_result"
    }
   ],
   "source": [
    "np.sum(np.power(sd_y,-2))"
   ]
  },
  {
   "cell_type": "code",
   "execution_count": 16,
   "metadata": {},
   "outputs": [],
   "source": [
    "# relazione lineare tra valori veri\n",
    "def my_line(x, m=1, c=0):\n",
    "    return x*m +c\n",
    "\n",
    "mu_m = mu_m1\n",
    "mu_c = mu_c1\n",
    "# numero di punti\n",
    "n = 4\n",
    "xmin = 0.3\n",
    "xmax = 0.61\n",
    "# incertezza y\n",
    "sigma_y = np.repeat(.5, n)\n",
    "# misure x equi-spaziate tra 1 e n\n",
    "x = np.linspace(xmax, xmin, n)\n",
    "yi = np.vectorize(my_line)(x, mu_m, mu_c)\n",
    "# y(n) gaussiane, l'ultimo parametro dice di costruire un array\n",
    "# di dimensione n a partire dagli n valori di yi e sigma_y\n",
    "#y = np.random.normal(yi,  sigma_y, (n, 1)).flatten()"
   ]
  },
  {
   "cell_type": "code",
   "execution_count": 17,
   "metadata": {},
   "outputs": [
    {
     "name": "stdout",
     "output_type": "stream",
     "text": [
      "m         =  4.016\n",
      "sigma(m)  =  2.164\n",
      "c         =  0.02016\n",
      "sigma(c)  =  1.016\n",
      "cov(m, c) =  -2.131\n"
     ]
    },
    {
     "data": {
      "image/png": "[encoded data removed]",
      "text/plain": [
       "<Figure size 432x288 with 1 Axes>"
      ]
     },
     "metadata": {
      "needs_background": "light"
     },
     "output_type": "display_data"
    }
   ],
   "source": [
    "# faccio il fit\n",
    "m, sigma_m, c, sigma_c, cov_mc = my.lin_fit(x, y, sigma_y, \n",
    "                                            verbose=True, plot=True)"
   ]
  },
  {
   "cell_type": "code",
   "execution_count": 29,
   "metadata": {},
   "outputs": [
    {
     "data": {
      "text/plain": [
       "9.829967435623061"
      ]
     },
     "execution_count": 29,
     "metadata": {},
     "output_type": "execute_result"
    }
   ],
   "source": [
    "g=pow((math.pi*2),2)/m\n",
    "g"
   ]
  },
  {
   "cell_type": "code",
   "execution_count": 35,
   "metadata": {},
   "outputs": [
    {
     "data": {
      "text/plain": [
       "0.0"
      ]
     },
     "execution_count": 35,
     "metadata": {},
     "output_type": "execute_result"
    }
   ],
   "source": [
    "np.std(g)"
   ]
  },
  {
   "cell_type": "code",
   "execution_count": 19,
   "metadata": {},
   "outputs": [
    {
     "data": {
      "image/png": "[encoded data removed]",
      "text/plain": [
       "<Figure size 432x288 with 1 Axes>"
      ]
     },
     "metadata": {
      "needs_background": "light"
     },
     "output_type": "display_data"
    }
   ],
   "source": [
    "# rappresento i punti misurati\n",
    "plt.errorbar(x, y, yerr=sigma_y, xerr=0, ls='', marker='.', label='punti misurati')\n",
    "\n",
    "# costruisco dei punti x su cui valutare la retta di regressione\n",
    "xl = np.linspace(0.8*xmin-2, xmax*1.2, 100)\n",
    "# uso i parametri medi di m e c\n",
    "yl = my_line(xl, m, c)\n",
    "# rappresento la retta di regressione\n",
    "plt.plot(xl, yl, 'g-.', label='retta di regressione')\n",
    "\n",
    "# propagazione incertezza su y a partire da m e c\n",
    "def y_inc(xl, sigma_m, sigma_c, cov_mc):\n",
    "    return np.sqrt(np.power(xl, 2)*np.power(sigma_m, 2) +\n",
    "                   np.power(sigma_c, 2) +\n",
    "                  2*xl*cov_mc) \n",
    "\n",
    "# incertezza sulle y\n",
    "yinc = y_inc(xl, sigma_m, sigma_c, cov_mc)\n",
    "\n",
    "# curve a y +- incertezza\n",
    "plt.plot(xl, yl+yinc, 'r--', label='banda incertezza $\\pm \\sigma_y$')\n",
    "plt.plot(xl, yl-yinc, 'r--')   \n",
    "\n",
    "plt.xlabel('$x$')\n",
    "plt.ylabel('$y$')\n",
    "plt.title('Regressione lineare')\n",
    "a=plt.legend()"
   ]
  },
  {
   "cell_type": "code",
   "execution_count": 27,
   "metadata": {},
   "outputs": [
    {
     "data": {
      "text/plain": [
       "4.016129032258095"
      ]
     },
     "execution_count": 27,
     "metadata": {},
     "output_type": "execute_result"
    }
   ],
   "source": [
    "m\n"
   ]
  },
  {
   "cell_type": "code",
   "execution_count": 31,
   "metadata": {},
   "outputs": [],
   "source": [
    "sgm=2.164"
   ]
  },
  {
   "cell_type": "code",
   "execution_count": 33,
   "metadata": {},
   "outputs": [
    {
     "data": {
      "text/plain": [
       "18.243261369850938"
      ]
     },
     "execution_count": 33,
     "metadata": {},
     "output_type": "execute_result"
    }
   ],
   "source": [
    "gr=pow((math.pi*2),2)/sgm\n",
    "gr"
   ]
  },
  {
   "cell_type": "code",
   "execution_count": null,
   "metadata": {},
   "outputs": [],
   "source": []
  }
 ],
 "metadata": {
  "kernelspec": {
   "display_name": "Python 3",
   "language": "python",
   "name": "python3"
  },
  "language_info": {
   "codemirror_mode": {
    "name": "ipython",
    "version": 3
   },
   "file_extension": ".py",
   "mimetype": "text/x-python",
   "name": "python",
   "nbconvert_exporter": "python",
   "pygments_lexer": "ipython3",
   "version": "3.7.7"
  }
 },
 "nbformat": 4,
 "nbformat_minor": 4
}
