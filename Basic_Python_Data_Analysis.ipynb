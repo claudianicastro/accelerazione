{
 "cells": [
  {
   "cell_type": "markdown",
   "metadata": {},
   "source": [
    "# Basic data analysis with python"
   ]
  },
  {
   "cell_type": "markdown",
   "metadata": {},
   "source": [
    "## Can use Latex in a \"Markdown\" cell\n",
    "\n",
    "$y=\\frac{a}{b}$"
   ]
  },
  {
   "cell_type": "markdown",
   "metadata": {},
   "source": [
    "## Import packages"
   ]
  },
  {
   "cell_type": "code",
   "execution_count": 1,
   "metadata": {},
   "outputs": [],
   "source": [
    "#plots will be shown inline \n",
    "%matplotlib inline \n",
    "\n",
    "import numpy as np\n",
    "import matplotlib.pyplot as plt\n",
    "import matplotlib.mlab as mlab\n",
    "from scipy import stats\n",
    "import pandas as pd"
   ]
  },
  {
   "cell_type": "markdown",
   "metadata": {},
   "source": [
    "## Input data: create a numpy array"
   ]
  },
  {
   "cell_type": "code",
   "execution_count": 2,
   "metadata": {},
   "outputs": [],
   "source": [
    "data = np.array([21.802, 21.810, 21.801, 21.816, 21.811, 21.810, 21.810, 21.806, 21.811, 21.830, 21.806, 21.830, 21.806, 21.820, 21.821, 21.815, 21.810, 21.799, 21.790, 21.779, 21.821, 21.794, 21.794, 21.816, 21.820, 21.797, 21.832, 21.788, 21.803, 21.829])"
   ]
  },
  {
   "cell_type": "code",
   "execution_count": 3,
   "metadata": {},
   "outputs": [
    {
     "data": {
      "text/plain": [
       "array([21.802, 21.81 , 21.801, 21.816, 21.811, 21.81 , 21.81 , 21.806,\n",
       "       21.811, 21.83 , 21.806, 21.83 , 21.806, 21.82 , 21.821, 21.815,\n",
       "       21.81 , 21.799, 21.79 , 21.779, 21.821, 21.794, 21.794, 21.816,\n",
       "       21.82 , 21.797, 21.832, 21.788, 21.803, 21.829])"
      ]
     },
     "execution_count": 3,
     "metadata": {},
     "output_type": "execute_result"
    }
   ],
   "source": [
    "data"
   ]
  },
  {
   "cell_type": "code",
   "execution_count": 4,
   "metadata": {},
   "outputs": [
    {
     "name": "stdout",
     "output_type": "stream",
     "text": [
      "[21.802 21.81  21.801 21.816 21.811 21.81  21.81  21.806 21.811 21.83\n",
      " 21.806 21.83  21.806 21.82  21.821 21.815 21.81  21.799 21.79  21.779\n",
      " 21.821 21.794 21.794 21.816 21.82  21.797 21.832 21.788 21.803 21.829]\n"
     ]
    }
   ],
   "source": [
    "print (data)"
   ]
  },
  {
   "cell_type": "code",
   "execution_count": 5,
   "metadata": {},
   "outputs": [
    {
     "name": "stdout",
     "output_type": "stream",
     "text": [
      "type:  <class 'numpy.ndarray'>\n",
      "size:\t 30\n",
      "dimension:\t 1\n",
      "shape:  (30,)\n",
      "data type:  float64\n"
     ]
    }
   ],
   "source": [
    "N = data.size\n",
    " \n",
    "print(\"type: \",type(data))\n",
    "print(\"size:\\t\", data.size)\n",
    "print(\"dimension:\\t\", data.ndim)\n",
    "print(\"shape: \", data.shape)\n",
    "print(\"data type: \",data.dtype)"
   ]
  },
  {
   "cell_type": "code",
   "execution_count": 6,
   "metadata": {},
   "outputs": [
    {
     "data": {
      "text/plain": [
       "[21.802,\n",
       " 21.81,\n",
       " 21.801,\n",
       " 21.816,\n",
       " 21.811,\n",
       " 21.81,\n",
       " 21.81,\n",
       " 21.806,\n",
       " 21.811,\n",
       " 21.83,\n",
       " 21.806,\n",
       " 21.83,\n",
       " 21.806,\n",
       " 21.82,\n",
       " 21.821,\n",
       " 21.815,\n",
       " 21.81,\n",
       " 21.799,\n",
       " 21.79,\n",
       " 21.779,\n",
       " 21.821,\n",
       " 21.794,\n",
       " 21.794,\n",
       " 21.816,\n",
       " 21.82,\n",
       " 21.797,\n",
       " 21.832,\n",
       " 21.788,\n",
       " 21.803,\n",
       " 21.829]"
      ]
     },
     "execution_count": 6,
     "metadata": {},
     "output_type": "execute_result"
    }
   ],
   "source": [
    "#convert numpy array into a python list\n",
    "data_list = data.tolist()\n",
    "data_list"
   ]
  },
  {
   "cell_type": "code",
   "execution_count": 7,
   "metadata": {},
   "outputs": [
    {
     "data": {
      "text/plain": [
       "array([21.8 , 21.81, 21.8 , 21.82, 21.81, 21.81, 21.81, 21.81, 21.81,\n",
       "       21.83, 21.81, 21.83, 21.81, 21.82, 21.82, 21.82, 21.81, 21.8 ,\n",
       "       21.79, 21.78, 21.82, 21.79, 21.79, 21.82, 21.82, 21.8 , 21.83,\n",
       "       21.79, 21.8 , 21.83])"
      ]
     },
     "execution_count": 7,
     "metadata": {},
     "output_type": "execute_result"
    }
   ],
   "source": [
    "# rounding values\n",
    "rounded_data = np.round(data,2)\n",
    "rounded_data"
   ]
  },
  {
   "cell_type": "markdown",
   "metadata": {},
   "source": [
    "## Mean"
   ]
  },
  {
   "cell_type": "code",
   "execution_count": 8,
   "metadata": {},
   "outputs": [
    {
     "name": "stdout",
     "output_type": "stream",
     "text": [
      "mean1 = 21.80923333333333, mean2 = 21.80923333333333, mean3 = 21.80923333333333, mean4 = 21.80923333333333\n"
     ]
    }
   ],
   "source": [
    "# call methods of the numpy package\n",
    "mean1 = np.mean(data) \n",
    "mean2 = np.sum(data)/N\n",
    "# some basic functions are available as methods of the object \"<class 'numpy.ndarray'>\"\n",
    "mean3 = data.mean()\n",
    "mean4 = data.sum()/N\n",
    "\n",
    "# print using ''\n",
    "print('mean1 = {0}, mean2 = {1}, mean3 = {2}, mean4 = {3}'.format( mean1, mean2, mean3, mean4) )"
   ]
  },
  {
   "cell_type": "code",
   "execution_count": 9,
   "metadata": {},
   "outputs": [
    {
     "name": "stdout",
     "output_type": "stream",
     "text": [
      "mean1 = 22, mean2 = 21.8, mean3 = 21.81, mean4 = 21.809\n"
     ]
    }
   ],
   "source": [
    "# show rounded numbers \n",
    "print('mean1 = {0:.0f}, mean2 = {1:.1f}, mean3 = {2:.2f}, mean4 = {3:.3f}'.format( mean1, mean2, mean3, mean4) )"
   ]
  },
  {
   "cell_type": "markdown",
   "metadata": {},
   "source": [
    "## Median"
   ]
  },
  {
   "cell_type": "code",
   "execution_count": 10,
   "metadata": {},
   "outputs": [
    {
     "data": {
      "text/plain": [
       "array([21.779, 21.788, 21.79 , 21.794, 21.794, 21.797, 21.799, 21.801,\n",
       "       21.802, 21.803, 21.806, 21.806, 21.806, 21.81 , 21.81 , 21.81 ,\n",
       "       21.81 , 21.811, 21.811, 21.815, 21.816, 21.816, 21.82 , 21.82 ,\n",
       "       21.821, 21.821, 21.829, 21.83 , 21.83 , 21.832])"
      ]
     },
     "execution_count": 10,
     "metadata": {},
     "output_type": "execute_result"
    }
   ],
   "source": [
    "# median1\n",
    "sorted_data = np.sort(data)\n",
    "sorted_data"
   ]
  },
  {
   "cell_type": "code",
   "execution_count": 11,
   "metadata": {},
   "outputs": [],
   "source": [
    "if N % 2:\n",
    "    median1 = sorted_data[round(0.5*(N-1))]\n",
    "else:\n",
    "    index = round(0.5 * N)\n",
    "    median1 = 0.5 * (sorted_data[index-1] + sorted_data[index])"
   ]
  },
  {
   "cell_type": "code",
   "execution_count": 12,
   "metadata": {},
   "outputs": [],
   "source": [
    "# median2\n",
    "median2 = np.median(data)\n",
    "# Note: the median() function is not implemented as a method of <class 'numpy.ndarray'>\"\n",
    "# this is why data.median() would not work"
   ]
  },
  {
   "cell_type": "code",
   "execution_count": 13,
   "metadata": {},
   "outputs": [
    {
     "name": "stdout",
     "output_type": "stream",
     "text": [
      "median1 = 21.81, median2 = 21.81\n"
     ]
    }
   ],
   "source": [
    "print('median1 = {0}, median2 = {1}'.format( median1, median2) )"
   ]
  },
  {
   "cell_type": "markdown",
   "metadata": {},
   "source": [
    "## Standard Deviation"
   ]
  },
  {
   "cell_type": "code",
   "execution_count": 14,
   "metadata": {},
   "outputs": [],
   "source": [
    "# std1\n",
    "# Note: The ddof=1 parameter allows the proper calculation of 𝑠² with (𝑛 − 1) in the denominator instead of 𝑛.\n",
    "var1 = np.var(data,ddof=1) \n",
    "std1 = var1 ** 0.5 # a ** x = a^x  \n",
    "\n",
    "#std2\n",
    "std2 = np.std(data,ddof=1)\n",
    "#std3\n",
    "var3 = ((data-data.mean())**2).sum()/(N-1)\n",
    "std3 = var3 ** 0.5"
   ]
  },
  {
   "cell_type": "code",
   "execution_count": 15,
   "metadata": {},
   "outputs": [
    {
     "data": {
      "text/plain": [
       "array([-0.00723333,  0.00076667, -0.00823333,  0.00676667,  0.00176667,\n",
       "        0.00076667,  0.00076667, -0.00323333,  0.00176667,  0.02076667,\n",
       "       -0.00323333,  0.02076667, -0.00323333,  0.01076667,  0.01176667,\n",
       "        0.00576667,  0.00076667, -0.01023333, -0.01923333, -0.03023333,\n",
       "        0.01176667, -0.01523333, -0.01523333,  0.00676667,  0.01076667,\n",
       "       -0.01223333,  0.02276667, -0.02123333, -0.00623333,  0.01976667])"
      ]
     },
     "execution_count": 15,
     "metadata": {},
     "output_type": "execute_result"
    }
   ],
   "source": [
    "#std3: see step-by-step what is doing\n",
    "data-data.mean()"
   ]
  },
  {
   "cell_type": "code",
   "execution_count": 16,
   "metadata": {},
   "outputs": [
    {
     "data": {
      "text/plain": [
       "array([5.23211111e-05, 5.87777778e-07, 6.77877778e-05, 4.57877778e-05,\n",
       "       3.12111111e-06, 5.87777778e-07, 5.87777778e-07, 1.04544444e-05,\n",
       "       3.12111111e-06, 4.31254444e-04, 1.04544444e-05, 4.31254444e-04,\n",
       "       1.04544444e-05, 1.15921111e-04, 1.38454444e-04, 3.32544444e-05,\n",
       "       5.87777778e-07, 1.04721111e-04, 3.69921111e-04, 9.14054444e-04,\n",
       "       1.38454444e-04, 2.32054444e-04, 2.32054444e-04, 4.57877778e-05,\n",
       "       1.15921111e-04, 1.49654444e-04, 5.18321111e-04, 4.50854444e-04,\n",
       "       3.88544444e-05, 3.90721111e-04])"
      ]
     },
     "execution_count": 16,
     "metadata": {},
     "output_type": "execute_result"
    }
   ],
   "source": [
    "(data-data.mean())**2"
   ]
  },
  {
   "cell_type": "code",
   "execution_count": 17,
   "metadata": {},
   "outputs": [
    {
     "data": {
      "text/plain": [
       "0.005057366666666642"
      ]
     },
     "execution_count": 17,
     "metadata": {},
     "output_type": "execute_result"
    }
   ],
   "source": [
    "((data-data.mean())**2).sum()"
   ]
  },
  {
   "cell_type": "code",
   "execution_count": 18,
   "metadata": {},
   "outputs": [
    {
     "data": {
      "text/plain": [
       "0.00017439195402298765"
      ]
     },
     "execution_count": 18,
     "metadata": {},
     "output_type": "execute_result"
    }
   ],
   "source": [
    "((data-data.mean())**2).sum()/(N-1)"
   ]
  },
  {
   "cell_type": "code",
   "execution_count": 19,
   "metadata": {},
   "outputs": [
    {
     "data": {
      "text/plain": [
       "0.013205754579840853"
      ]
     },
     "execution_count": 19,
     "metadata": {},
     "output_type": "execute_result"
    }
   ],
   "source": [
    "(((data-data.mean())**2).sum()/(N-1)) ** 0.5"
   ]
  },
  {
   "cell_type": "code",
   "execution_count": 20,
   "metadata": {},
   "outputs": [
    {
     "name": "stdout",
     "output_type": "stream",
     "text": [
      "value = 21.802, (value-mean)^2 = 5.232111111108995e-05\n",
      "value = 21.81, (value-mean)^2 = 5.290888888886862e-05\n",
      "value = 21.801, (value-mean)^2 = 0.00012069666666664243\n",
      "value = 21.816, (value-mean)^2 = 0.00016648444444443116\n",
      "value = 21.811, (value-mean)^2 = 0.00016960555555554864\n",
      "value = 21.81, (value-mean)^2 = 0.00017019333333332732\n",
      "value = 21.81, (value-mean)^2 = 0.000170781111111106\n",
      "value = 21.806, (value-mean)^2 = 0.00018123555555553235\n",
      "value = 21.811, (value-mean)^2 = 0.00018435666666664983\n",
      "value = 21.83, (value-mean)^2 = 0.0006156111111111007\n",
      "value = 21.806, (value-mean)^2 = 0.0006260655555555271\n",
      "value = 21.83, (value-mean)^2 = 0.001057319999999978\n",
      "value = 21.806, (value-mean)^2 = 0.0010677744444444043\n",
      "value = 21.82, (value-mean)^2 = 0.0011836955555555616\n",
      "value = 21.821, (value-mean)^2 = 0.0013221500000000852\n",
      "value = 21.815, (value-mean)^2 = 0.001355404444444566\n",
      "value = 21.81, (value-mean)^2 = 0.0013559922222223446\n",
      "value = 21.799, (value-mean)^2 = 0.0014607133333334281\n",
      "value = 21.79, (value-mean)^2 = 0.0018306344444445006\n",
      "value = 21.779, (value-mean)^2 = 0.002744688888888838\n",
      "value = 21.821, (value-mean)^2 = 0.0028831433333333617\n",
      "value = 21.794, (value-mean)^2 = 0.0031151977777777347\n",
      "value = 21.794, (value-mean)^2 = 0.0033472522222221077\n",
      "value = 21.816, (value-mean)^2 = 0.0033930399999998963\n",
      "value = 21.82, (value-mean)^2 = 0.0035089611111110536\n",
      "value = 21.797, (value-mean)^2 = 0.003658615555555438\n",
      "value = 21.832, (value-mean)^2 = 0.004176936666666667\n",
      "value = 21.788, (value-mean)^2 = 0.0046277911111110214\n",
      "value = 21.803, (value-mean)^2 = 0.004666645555555432\n",
      "value = 21.829, (value-mean)^2 = 0.005057366666666642\n"
     ]
    }
   ],
   "source": [
    "#std4: using simple loop\n",
    "res = 0.\n",
    "for x in np.nditer(data):    \n",
    "    res += (x-data.mean()) ** 2\n",
    "    print('value = {0}, (value-mean)^2 = {1}'.format( x , res) )\n",
    "var4 = res / (N-1)\n",
    "std4 = var4 ** 0.5"
   ]
  },
  {
   "cell_type": "code",
   "execution_count": 21,
   "metadata": {},
   "outputs": [
    {
     "name": "stdout",
     "output_type": "stream",
     "text": [
      "std1 = 0.013205754579840853, std2 = 0.013205754579840853, std3 = 0.013205754579840853, std4 = 0.013205754579840853\n"
     ]
    }
   ],
   "source": [
    "print('std1 = {0}, std2 = {1}, std3 = {2}, std4 = {3}'.format( std1 , std2, std3, std4) )"
   ]
  },
  {
   "cell_type": "markdown",
   "metadata": {},
   "source": [
    "## Make histograms and draw functions"
   ]
  },
  {
   "cell_type": "code",
   "execution_count": 22,
   "metadata": {},
   "outputs": [
    {
     "data": {
      "text/plain": [
       "8"
      ]
     },
     "execution_count": 22,
     "metadata": {},
     "output_type": "execute_result"
    }
   ],
   "source": [
    "# binning\n",
    "binsize = np.std(data,ddof=1)/2 # half of standard deviation\n",
    "interval = data.max() - data.min()\n",
    "nbins = int(interval / binsize)\n",
    "nbins"
   ]
  },
  {
   "cell_type": "code",
   "execution_count": 23,
   "metadata": {},
   "outputs": [
    {
     "data": {
      "text/plain": [
       "[<matplotlib.lines.Line2D at 0x1105931d0>]"
      ]
     },
     "execution_count": 23,
     "metadata": {},
     "output_type": "execute_result"
    },
    {
     "data": {
      "image/png": "[encoded data removed]",
      "text/plain": [
       "<Figure size 432x288 with 1 Axes>"
      ]
     },
     "metadata": {
      "needs_background": "light"
     },
     "output_type": "display_data"
    }
   ],
   "source": [
    "# histogram of the data\n",
    "counts , bins , patches = plt.hist(data,bins=nbins,color=\"blue\",alpha=0.75)\n",
    "plt.xlabel('x [mm]')\n",
    "plt.ylabel('Entries')\n",
    "plt.title(label='Histogram of x: $\\mu$={0:.3f} $\\sigma$={1:.3f}'.format(mean1,std1))\n",
    "\n",
    "# ==> draw a gaussian function\n",
    "# create an array with 100 equally separated values in the x axis interval\n",
    "lnspc = np.linspace(data.min()-data.std(), data.max()+data.std(), 100) \n",
    "# create an array with f(x) values, one for each of the above points\n",
    "# normalize properly the function such that integral from -inf to +inf is the total number of events\n",
    "norm_factor = data.size * binsize\n",
    "f_gaus = norm_factor*stats.norm.pdf(lnspc,data.mean(),data.std())  \n",
    "# draw the function\n",
    "plt.plot(lnspc, f_gaus, linewidth=1, color='r',linestyle='--')"
   ]
  },
  {
   "cell_type": "code",
   "execution_count": 24,
   "metadata": {},
   "outputs": [
    {
     "data": {
      "text/plain": [
       "(array([1., 2., 3., 4., 9., 3., 4., 4.]),\n",
       " array([21.779   , 21.785625, 21.79225 , 21.798875, 21.8055  , 21.812125,\n",
       "        21.81875 , 21.825375, 21.832   ]),\n",
       " <a list of 8 Patch objects>)"
      ]
     },
     "execution_count": 24,
     "metadata": {},
     "output_type": "execute_result"
    }
   ],
   "source": [
    "# histogram content\n",
    "counts, bins, patches"
   ]
  },
  {
   "cell_type": "code",
   "execution_count": 25,
   "metadata": {},
   "outputs": [],
   "source": [
    "## Mode of a histogram (x corresponding to value with largest counts)"
   ]
  },
  {
   "cell_type": "code",
   "execution_count": 26,
   "metadata": {},
   "outputs": [
    {
     "name": "stdout",
     "output_type": "stream",
     "text": [
      "mode = 21.808812500000002\n"
     ]
    }
   ],
   "source": [
    "np.argmax(counts)\n",
    "mode = (bins[np.argmax(counts)+1] + bins[np.argmax(counts)])/2\n",
    "print('mode = {0}'.format( mode ) )"
   ]
  },
  {
   "cell_type": "markdown",
   "metadata": {},
   "source": [
    "## Random number generation"
   ]
  },
  {
   "cell_type": "code",
   "execution_count": 27,
   "metadata": {},
   "outputs": [
    {
     "data": {
      "text/plain": [
       "array([ 1.15141554,  0.0329882 , -0.51305563, ..., -0.10052631,\n",
       "       -1.03817305, -0.87348355])"
      ]
     },
     "execution_count": 27,
     "metadata": {},
     "output_type": "execute_result"
    }
   ],
   "source": [
    "# generate random numbers from gaussian distribution and put them in array\n",
    "mu = 0\n",
    "sigma = 1\n",
    "x = np.random.normal(mu, sigma, 10000)\n",
    "x"
   ]
  },
  {
   "cell_type": "code",
   "execution_count": 28,
   "metadata": {},
   "outputs": [
    {
     "data": {
      "text/plain": [
       "[<matplotlib.lines.Line2D at 0x1248dc050>]"
      ]
     },
     "execution_count": 28,
     "metadata": {},
     "output_type": "execute_result"
    },
    {
     "data": {
      "image/png": "[encoded data removed]",
      "text/plain": [
       "<Figure size 432x288 with 1 Axes>"
      ]
     },
     "metadata": {
      "needs_background": "light"
     },
     "output_type": "display_data"
    }
   ],
   "source": [
    "# the histogram of the data\n",
    "counts1 , bins1, patches1 = plt.hist(x, 50, color='green', alpha=0.75, density=1)\n",
    "# Note: density = 1 --> each bin is divided by (\"total number of events\" * \"bin width\") \n",
    "#                       to form a probability density function\n",
    "\n",
    "lnspc1 = np.linspace(x.min(), x.max(), 100) \n",
    "pdf_gaus = stats.norm.pdf(lnspc1,mu,sigma)  #using pre-defined function   \n",
    "#pdf_gaus = 1/(sigma * np.sqrt(2 * np.pi)) * np.exp( - (lnspc1 - mu)**2 / (2 * sigma**2) ) #using user-defined function\n",
    "plt.plot(lnspc1, pdf_gaus, linewidth=1, color='r',linestyle='--')"
   ]
  },
  {
   "cell_type": "markdown",
   "metadata": {},
   "source": [
    "## I/O with files"
   ]
  },
  {
   "cell_type": "markdown",
   "metadata": {},
   "source": [
    "### Pandas Dataframe"
   ]
  },
  {
   "cell_type": "markdown",
   "metadata": {},
   "source": [
    "#### Read from csv file"
   ]
  },
  {
   "cell_type": "code",
   "execution_count": 29,
   "metadata": {},
   "outputs": [
    {
     "data": {
      "text/html": [
       "<div>\n",
       "<style scoped>\n",
       "    .dataframe tbody tr th:only-of-type {\n",
       "        vertical-align: middle;\n",
       "    }\n",
       "\n",
       "    .dataframe tbody tr th {\n",
       "        vertical-align: top;\n",
       "    }\n",
       "\n",
       "    .dataframe thead th {\n",
       "        text-align: right;\n",
       "    }\n",
       "</style>\n",
       "<table border=\"1\" class=\"dataframe\">\n",
       "  <thead>\n",
       "    <tr style=\"text-align: right;\">\n",
       "      <th></th>\n",
       "      <th>h</th>\n",
       "      <th>D</th>\n",
       "    </tr>\n",
       "  </thead>\n",
       "  <tbody>\n",
       "    <tr>\n",
       "      <th>0</th>\n",
       "      <td>10.1</td>\n",
       "      <td>20.0</td>\n",
       "    </tr>\n",
       "    <tr>\n",
       "      <th>1</th>\n",
       "      <td>11.0</td>\n",
       "      <td>23.3</td>\n",
       "    </tr>\n",
       "    <tr>\n",
       "      <th>2</th>\n",
       "      <td>9.0</td>\n",
       "      <td>21.4</td>\n",
       "    </tr>\n",
       "    <tr>\n",
       "      <th>3</th>\n",
       "      <td>12.0</td>\n",
       "      <td>22.3</td>\n",
       "    </tr>\n",
       "    <tr>\n",
       "      <th>4</th>\n",
       "      <td>10.0</td>\n",
       "      <td>22.0</td>\n",
       "    </tr>\n",
       "    <tr>\n",
       "      <th>5</th>\n",
       "      <td>11.2</td>\n",
       "      <td>19.8</td>\n",
       "    </tr>\n",
       "  </tbody>\n",
       "</table>\n",
       "</div>"
      ],
      "text/plain": [
       "      h     D\n",
       "0  10.1  20.0\n",
       "1  11.0  23.3\n",
       "2   9.0  21.4\n",
       "3  12.0  22.3\n",
       "4  10.0  22.0\n",
       "5  11.2  19.8"
      ]
     },
     "execution_count": 29,
     "metadata": {},
     "output_type": "execute_result"
    }
   ],
   "source": [
    "df = pd.read_csv('data.csv')\n",
    "df"
   ]
  },
  {
   "cell_type": "code",
   "execution_count": 30,
   "metadata": {},
   "outputs": [
    {
     "data": {
      "text/html": [
       "<div>\n",
       "<style scoped>\n",
       "    .dataframe tbody tr th:only-of-type {\n",
       "        vertical-align: middle;\n",
       "    }\n",
       "\n",
       "    .dataframe tbody tr th {\n",
       "        vertical-align: top;\n",
       "    }\n",
       "\n",
       "    .dataframe thead th {\n",
       "        text-align: right;\n",
       "    }\n",
       "</style>\n",
       "<table border=\"1\" class=\"dataframe\">\n",
       "  <thead>\n",
       "    <tr style=\"text-align: right;\">\n",
       "      <th></th>\n",
       "      <th>h</th>\n",
       "      <th>D</th>\n",
       "    </tr>\n",
       "  </thead>\n",
       "  <tbody>\n",
       "    <tr>\n",
       "      <th>0</th>\n",
       "      <td>10.1</td>\n",
       "      <td>20.0</td>\n",
       "    </tr>\n",
       "    <tr>\n",
       "      <th>1</th>\n",
       "      <td>11.0</td>\n",
       "      <td>23.3</td>\n",
       "    </tr>\n",
       "  </tbody>\n",
       "</table>\n",
       "</div>"
      ],
      "text/plain": [
       "      h     D\n",
       "0  10.1  20.0\n",
       "1  11.0  23.3"
      ]
     },
     "execution_count": 30,
     "metadata": {},
     "output_type": "execute_result"
    }
   ],
   "source": [
    "df.head(2)"
   ]
  },
  {
   "cell_type": "code",
   "execution_count": 31,
   "metadata": {},
   "outputs": [
    {
     "data": {
      "text/html": [
       "<div>\n",
       "<style scoped>\n",
       "    .dataframe tbody tr th:only-of-type {\n",
       "        vertical-align: middle;\n",
       "    }\n",
       "\n",
       "    .dataframe tbody tr th {\n",
       "        vertical-align: top;\n",
       "    }\n",
       "\n",
       "    .dataframe thead th {\n",
       "        text-align: right;\n",
       "    }\n",
       "</style>\n",
       "<table border=\"1\" class=\"dataframe\">\n",
       "  <thead>\n",
       "    <tr style=\"text-align: right;\">\n",
       "      <th></th>\n",
       "      <th>h</th>\n",
       "      <th>D</th>\n",
       "    </tr>\n",
       "  </thead>\n",
       "  <tbody>\n",
       "    <tr>\n",
       "      <th>3</th>\n",
       "      <td>12.0</td>\n",
       "      <td>22.3</td>\n",
       "    </tr>\n",
       "    <tr>\n",
       "      <th>4</th>\n",
       "      <td>10.0</td>\n",
       "      <td>22.0</td>\n",
       "    </tr>\n",
       "    <tr>\n",
       "      <th>5</th>\n",
       "      <td>11.2</td>\n",
       "      <td>19.8</td>\n",
       "    </tr>\n",
       "  </tbody>\n",
       "</table>\n",
       "</div>"
      ],
      "text/plain": [
       "      h     D\n",
       "3  12.0  22.3\n",
       "4  10.0  22.0\n",
       "5  11.2  19.8"
      ]
     },
     "execution_count": 31,
     "metadata": {},
     "output_type": "execute_result"
    }
   ],
   "source": [
    "df.tail(3)"
   ]
  },
  {
   "cell_type": "code",
   "execution_count": 32,
   "metadata": {},
   "outputs": [
    {
     "data": {
      "text/plain": [
       "RangeIndex(start=0, stop=6, step=1)"
      ]
     },
     "execution_count": 32,
     "metadata": {},
     "output_type": "execute_result"
    }
   ],
   "source": [
    "df.index"
   ]
  },
  {
   "cell_type": "code",
   "execution_count": 33,
   "metadata": {},
   "outputs": [
    {
     "data": {
      "text/plain": [
       "Index(['h', 'D'], dtype='object')"
      ]
     },
     "execution_count": 33,
     "metadata": {},
     "output_type": "execute_result"
    }
   ],
   "source": [
    "df.columns"
   ]
  },
  {
   "cell_type": "code",
   "execution_count": 34,
   "metadata": {},
   "outputs": [
    {
     "data": {
      "text/html": [
       "<div>\n",
       "<style scoped>\n",
       "    .dataframe tbody tr th:only-of-type {\n",
       "        vertical-align: middle;\n",
       "    }\n",
       "\n",
       "    .dataframe tbody tr th {\n",
       "        vertical-align: top;\n",
       "    }\n",
       "\n",
       "    .dataframe thead th {\n",
       "        text-align: right;\n",
       "    }\n",
       "</style>\n",
       "<table border=\"1\" class=\"dataframe\">\n",
       "  <thead>\n",
       "    <tr style=\"text-align: right;\">\n",
       "      <th></th>\n",
       "      <th>h</th>\n",
       "      <th>D</th>\n",
       "    </tr>\n",
       "  </thead>\n",
       "  <tbody>\n",
       "    <tr>\n",
       "      <th>count</th>\n",
       "      <td>6.000000</td>\n",
       "      <td>6.000000</td>\n",
       "    </tr>\n",
       "    <tr>\n",
       "      <th>mean</th>\n",
       "      <td>10.550000</td>\n",
       "      <td>21.466667</td>\n",
       "    </tr>\n",
       "    <tr>\n",
       "      <th>std</th>\n",
       "      <td>1.061603</td>\n",
       "      <td>1.361861</td>\n",
       "    </tr>\n",
       "    <tr>\n",
       "      <th>min</th>\n",
       "      <td>9.000000</td>\n",
       "      <td>19.800000</td>\n",
       "    </tr>\n",
       "    <tr>\n",
       "      <th>25%</th>\n",
       "      <td>10.025000</td>\n",
       "      <td>20.350000</td>\n",
       "    </tr>\n",
       "    <tr>\n",
       "      <th>50%</th>\n",
       "      <td>10.550000</td>\n",
       "      <td>21.700000</td>\n",
       "    </tr>\n",
       "    <tr>\n",
       "      <th>75%</th>\n",
       "      <td>11.150000</td>\n",
       "      <td>22.225000</td>\n",
       "    </tr>\n",
       "    <tr>\n",
       "      <th>max</th>\n",
       "      <td>12.000000</td>\n",
       "      <td>23.300000</td>\n",
       "    </tr>\n",
       "  </tbody>\n",
       "</table>\n",
       "</div>"
      ],
      "text/plain": [
       "               h          D\n",
       "count   6.000000   6.000000\n",
       "mean   10.550000  21.466667\n",
       "std     1.061603   1.361861\n",
       "min     9.000000  19.800000\n",
       "25%    10.025000  20.350000\n",
       "50%    10.550000  21.700000\n",
       "75%    11.150000  22.225000\n",
       "max    12.000000  23.300000"
      ]
     },
     "execution_count": 34,
     "metadata": {},
     "output_type": "execute_result"
    }
   ],
   "source": [
    "df.describe()"
   ]
  },
  {
   "cell_type": "code",
   "execution_count": 35,
   "metadata": {},
   "outputs": [
    {
     "data": {
      "text/html": [
       "<div>\n",
       "<style scoped>\n",
       "    .dataframe tbody tr th:only-of-type {\n",
       "        vertical-align: middle;\n",
       "    }\n",
       "\n",
       "    .dataframe tbody tr th {\n",
       "        vertical-align: top;\n",
       "    }\n",
       "\n",
       "    .dataframe thead th {\n",
       "        text-align: right;\n",
       "    }\n",
       "</style>\n",
       "<table border=\"1\" class=\"dataframe\">\n",
       "  <thead>\n",
       "    <tr style=\"text-align: right;\">\n",
       "      <th></th>\n",
       "      <th>h</th>\n",
       "      <th>D</th>\n",
       "    </tr>\n",
       "  </thead>\n",
       "  <tbody>\n",
       "    <tr>\n",
       "      <th>0</th>\n",
       "      <td>10.1</td>\n",
       "      <td>20.0</td>\n",
       "    </tr>\n",
       "    <tr>\n",
       "      <th>1</th>\n",
       "      <td>11.0</td>\n",
       "      <td>23.3</td>\n",
       "    </tr>\n",
       "    <tr>\n",
       "      <th>2</th>\n",
       "      <td>9.0</td>\n",
       "      <td>21.4</td>\n",
       "    </tr>\n",
       "    <tr>\n",
       "      <th>3</th>\n",
       "      <td>12.0</td>\n",
       "      <td>22.3</td>\n",
       "    </tr>\n",
       "    <tr>\n",
       "      <th>4</th>\n",
       "      <td>10.0</td>\n",
       "      <td>22.0</td>\n",
       "    </tr>\n",
       "    <tr>\n",
       "      <th>5</th>\n",
       "      <td>11.2</td>\n",
       "      <td>19.8</td>\n",
       "    </tr>\n",
       "  </tbody>\n",
       "</table>\n",
       "</div>"
      ],
      "text/plain": [
       "      h     D\n",
       "0  10.1  20.0\n",
       "1  11.0  23.3\n",
       "2   9.0  21.4\n",
       "3  12.0  22.3\n",
       "4  10.0  22.0\n",
       "5  11.2  19.8"
      ]
     },
     "execution_count": 35,
     "metadata": {},
     "output_type": "execute_result"
    }
   ],
   "source": [
    "df.sort_index(axis=1, ascending=False)"
   ]
  },
  {
   "cell_type": "code",
   "execution_count": 36,
   "metadata": {},
   "outputs": [
    {
     "data": {
      "text/html": [
       "<div>\n",
       "<style scoped>\n",
       "    .dataframe tbody tr th:only-of-type {\n",
       "        vertical-align: middle;\n",
       "    }\n",
       "\n",
       "    .dataframe tbody tr th {\n",
       "        vertical-align: top;\n",
       "    }\n",
       "\n",
       "    .dataframe thead th {\n",
       "        text-align: right;\n",
       "    }\n",
       "</style>\n",
       "<table border=\"1\" class=\"dataframe\">\n",
       "  <thead>\n",
       "    <tr style=\"text-align: right;\">\n",
       "      <th></th>\n",
       "      <th>h</th>\n",
       "      <th>D</th>\n",
       "    </tr>\n",
       "  </thead>\n",
       "  <tbody>\n",
       "    <tr>\n",
       "      <th>2</th>\n",
       "      <td>9.0</td>\n",
       "      <td>21.4</td>\n",
       "    </tr>\n",
       "    <tr>\n",
       "      <th>4</th>\n",
       "      <td>10.0</td>\n",
       "      <td>22.0</td>\n",
       "    </tr>\n",
       "    <tr>\n",
       "      <th>0</th>\n",
       "      <td>10.1</td>\n",
       "      <td>20.0</td>\n",
       "    </tr>\n",
       "    <tr>\n",
       "      <th>1</th>\n",
       "      <td>11.0</td>\n",
       "      <td>23.3</td>\n",
       "    </tr>\n",
       "    <tr>\n",
       "      <th>5</th>\n",
       "      <td>11.2</td>\n",
       "      <td>19.8</td>\n",
       "    </tr>\n",
       "    <tr>\n",
       "      <th>3</th>\n",
       "      <td>12.0</td>\n",
       "      <td>22.3</td>\n",
       "    </tr>\n",
       "  </tbody>\n",
       "</table>\n",
       "</div>"
      ],
      "text/plain": [
       "      h     D\n",
       "2   9.0  21.4\n",
       "4  10.0  22.0\n",
       "0  10.1  20.0\n",
       "1  11.0  23.3\n",
       "5  11.2  19.8\n",
       "3  12.0  22.3"
      ]
     },
     "execution_count": 36,
     "metadata": {},
     "output_type": "execute_result"
    }
   ],
   "source": [
    "df.sort_values(by='h')"
   ]
  },
  {
   "cell_type": "code",
   "execution_count": 37,
   "metadata": {},
   "outputs": [
    {
     "data": {
      "text/plain": [
       "(array([10.1, 11. ,  9. , 12. , 10. , 11.2]),\n",
       " array([20. , 23.3, 21.4, 22.3, 22. , 19.8]))"
      ]
     },
     "execution_count": 37,
     "metadata": {},
     "output_type": "execute_result"
    }
   ],
   "source": [
    "# get numpy arrays from dataframe\n",
    "h = df['h'].to_numpy()\n",
    "D = df['D'].to_numpy()\n",
    "h, D"
   ]
  },
  {
   "cell_type": "code",
   "execution_count": 38,
   "metadata": {},
   "outputs": [
    {
     "data": {
      "text/plain": [
       "array([6346.01716025, 9380.46579639, 6474.25697237, 9373.69566422,\n",
       "       7602.65422169, 6897.12790991])"
      ]
     },
     "execution_count": 38,
     "metadata": {},
     "output_type": "execute_result"
    }
   ],
   "source": [
    "# do operations with arrays\n",
    "V = 2 * np.pi * (D/2)**2 * h \n",
    "V"
   ]
  },
  {
   "cell_type": "code",
   "execution_count": 39,
   "metadata": {},
   "outputs": [
    {
     "data": {
      "text/html": [
       "<div>\n",
       "<style scoped>\n",
       "    .dataframe tbody tr th:only-of-type {\n",
       "        vertical-align: middle;\n",
       "    }\n",
       "\n",
       "    .dataframe tbody tr th {\n",
       "        vertical-align: top;\n",
       "    }\n",
       "\n",
       "    .dataframe thead th {\n",
       "        text-align: right;\n",
       "    }\n",
       "</style>\n",
       "<table border=\"1\" class=\"dataframe\">\n",
       "  <thead>\n",
       "    <tr style=\"text-align: right;\">\n",
       "      <th></th>\n",
       "      <th>h</th>\n",
       "      <th>D</th>\n",
       "      <th>V</th>\n",
       "    </tr>\n",
       "  </thead>\n",
       "  <tbody>\n",
       "    <tr>\n",
       "      <th>0</th>\n",
       "      <td>10.1</td>\n",
       "      <td>20.0</td>\n",
       "      <td>6346.017160</td>\n",
       "    </tr>\n",
       "    <tr>\n",
       "      <th>1</th>\n",
       "      <td>11.0</td>\n",
       "      <td>23.3</td>\n",
       "      <td>9380.465796</td>\n",
       "    </tr>\n",
       "    <tr>\n",
       "      <th>2</th>\n",
       "      <td>9.0</td>\n",
       "      <td>21.4</td>\n",
       "      <td>6474.256972</td>\n",
       "    </tr>\n",
       "    <tr>\n",
       "      <th>3</th>\n",
       "      <td>12.0</td>\n",
       "      <td>22.3</td>\n",
       "      <td>9373.695664</td>\n",
       "    </tr>\n",
       "    <tr>\n",
       "      <th>4</th>\n",
       "      <td>10.0</td>\n",
       "      <td>22.0</td>\n",
       "      <td>7602.654222</td>\n",
       "    </tr>\n",
       "    <tr>\n",
       "      <th>5</th>\n",
       "      <td>11.2</td>\n",
       "      <td>19.8</td>\n",
       "      <td>6897.127910</td>\n",
       "    </tr>\n",
       "  </tbody>\n",
       "</table>\n",
       "</div>"
      ],
      "text/plain": [
       "      h     D            V\n",
       "0  10.1  20.0  6346.017160\n",
       "1  11.0  23.3  9380.465796\n",
       "2   9.0  21.4  6474.256972\n",
       "3  12.0  22.3  9373.695664\n",
       "4  10.0  22.0  7602.654222\n",
       "5  11.2  19.8  6897.127910"
      ]
     },
     "execution_count": 39,
     "metadata": {},
     "output_type": "execute_result"
    }
   ],
   "source": [
    "# update the dataframe with a new column\n",
    "df['V'] = V\n",
    "df"
   ]
  },
  {
   "cell_type": "code",
   "execution_count": 40,
   "metadata": {},
   "outputs": [
    {
     "data": {
      "text/plain": [
       "h    float64\n",
       "D    float64\n",
       "V    float64\n",
       "dtype: object"
      ]
     },
     "execution_count": 40,
     "metadata": {},
     "output_type": "execute_result"
    }
   ],
   "source": [
    "df.dtypes"
   ]
  },
  {
   "cell_type": "markdown",
   "metadata": {},
   "source": [
    "#### Table printout with rounding"
   ]
  },
  {
   "cell_type": "code",
   "execution_count": 41,
   "metadata": {},
   "outputs": [
    {
     "name": "stdout",
     "output_type": "stream",
     "text": [
      "\\begin{tabular}{rrr}\n",
      "\\toprule\n",
      "    h &    D &       V \\\\\n",
      "\\midrule\n",
      "1E+01 & 20.0 & 6.3E+03 \\\\\n",
      "1E+01 & 23.3 & 9.4E+03 \\\\\n",
      "9E+00 & 21.4 & 6.5E+03 \\\\\n",
      "1E+01 & 22.3 & 9.4E+03 \\\\\n",
      "1E+01 & 22.0 & 7.6E+03 \\\\\n",
      "1E+01 & 19.8 & 6.9E+03 \\\\\n",
      "\\bottomrule\n",
      "\\end{tabular}\n",
      "\n"
     ]
    }
   ],
   "source": [
    "# print table in latex format with rounded values \n",
    "# (ready for cut&paste in a latex document after adding the package \\usepackage{booktabs})\n",
    "print (df.to_latex(index=False,formatters={'h': '{:.0E}'.format,'D': '{:.1f}'.format, 'V': '{:0.1E}'.format}))"
   ]
  },
  {
   "cell_type": "code",
   "execution_count": 43,
   "metadata": {},
   "outputs": [
    {
     "name": "stdout",
     "output_type": "stream",
     "text": [
      "      h    D       V\n",
      "0 1E+01 20.0 6.3E+03\n",
      "1 1E+01 23.3 9.4E+03\n",
      "2 9E+00 21.4 6.5E+03\n",
      "3 1E+01 22.3 9.4E+03\n",
      "4 1E+01 22.0 7.6E+03\n",
      "5 1E+01 19.8 6.9E+03\n"
     ]
    }
   ],
   "source": [
    "# display a rounded dataframe - 1 \n",
    "df_string = df.to_string(formatters= {'h': '{:.0E}'.format,'D': '{:.1f}'.format, 'V': '{:0.1E}'.format})\n",
    "print (df_string)"
   ]
  },
  {
   "cell_type": "code",
   "execution_count": 44,
   "metadata": {},
   "outputs": [
    {
     "data": {
      "text/html": [
       "<style  type=\"text/css\" >\n",
       "</style><table id=\"T_aa7aaf14_39e7_11ea_a1fe_3c15c2d6648e\" ><thead>    <tr>        <th class=\"blank level0\" ></th>        <th class=\"col_heading level0 col0\" >h</th>        <th class=\"col_heading level0 col1\" >D</th>        <th class=\"col_heading level0 col2\" >V</th>    </tr></thead><tbody>\n",
       "                <tr>\n",
       "                        <th id=\"T_aa7aaf14_39e7_11ea_a1fe_3c15c2d6648elevel0_row0\" class=\"row_heading level0 row0\" >0</th>\n",
       "                        <td id=\"T_aa7aaf14_39e7_11ea_a1fe_3c15c2d6648erow0_col0\" class=\"data row0 col0\" >10</td>\n",
       "                        <td id=\"T_aa7aaf14_39e7_11ea_a1fe_3c15c2d6648erow0_col1\" class=\"data row0 col1\" >20</td>\n",
       "                        <td id=\"T_aa7aaf14_39e7_11ea_a1fe_3c15c2d6648erow0_col2\" class=\"data row0 col2\" >6.3e+03</td>\n",
       "            </tr>\n",
       "            <tr>\n",
       "                        <th id=\"T_aa7aaf14_39e7_11ea_a1fe_3c15c2d6648elevel0_row1\" class=\"row_heading level0 row1\" >1</th>\n",
       "                        <td id=\"T_aa7aaf14_39e7_11ea_a1fe_3c15c2d6648erow1_col0\" class=\"data row1 col0\" >11</td>\n",
       "                        <td id=\"T_aa7aaf14_39e7_11ea_a1fe_3c15c2d6648erow1_col1\" class=\"data row1 col1\" >23</td>\n",
       "                        <td id=\"T_aa7aaf14_39e7_11ea_a1fe_3c15c2d6648erow1_col2\" class=\"data row1 col2\" >9.4e+03</td>\n",
       "            </tr>\n",
       "            <tr>\n",
       "                        <th id=\"T_aa7aaf14_39e7_11ea_a1fe_3c15c2d6648elevel0_row2\" class=\"row_heading level0 row2\" >2</th>\n",
       "                        <td id=\"T_aa7aaf14_39e7_11ea_a1fe_3c15c2d6648erow2_col0\" class=\"data row2 col0\" >9</td>\n",
       "                        <td id=\"T_aa7aaf14_39e7_11ea_a1fe_3c15c2d6648erow2_col1\" class=\"data row2 col1\" >21</td>\n",
       "                        <td id=\"T_aa7aaf14_39e7_11ea_a1fe_3c15c2d6648erow2_col2\" class=\"data row2 col2\" >6.5e+03</td>\n",
       "            </tr>\n",
       "            <tr>\n",
       "                        <th id=\"T_aa7aaf14_39e7_11ea_a1fe_3c15c2d6648elevel0_row3\" class=\"row_heading level0 row3\" >3</th>\n",
       "                        <td id=\"T_aa7aaf14_39e7_11ea_a1fe_3c15c2d6648erow3_col0\" class=\"data row3 col0\" >12</td>\n",
       "                        <td id=\"T_aa7aaf14_39e7_11ea_a1fe_3c15c2d6648erow3_col1\" class=\"data row3 col1\" >22</td>\n",
       "                        <td id=\"T_aa7aaf14_39e7_11ea_a1fe_3c15c2d6648erow3_col2\" class=\"data row3 col2\" >9.4e+03</td>\n",
       "            </tr>\n",
       "            <tr>\n",
       "                        <th id=\"T_aa7aaf14_39e7_11ea_a1fe_3c15c2d6648elevel0_row4\" class=\"row_heading level0 row4\" >4</th>\n",
       "                        <td id=\"T_aa7aaf14_39e7_11ea_a1fe_3c15c2d6648erow4_col0\" class=\"data row4 col0\" >10</td>\n",
       "                        <td id=\"T_aa7aaf14_39e7_11ea_a1fe_3c15c2d6648erow4_col1\" class=\"data row4 col1\" >22</td>\n",
       "                        <td id=\"T_aa7aaf14_39e7_11ea_a1fe_3c15c2d6648erow4_col2\" class=\"data row4 col2\" >7.6e+03</td>\n",
       "            </tr>\n",
       "            <tr>\n",
       "                        <th id=\"T_aa7aaf14_39e7_11ea_a1fe_3c15c2d6648elevel0_row5\" class=\"row_heading level0 row5\" >5</th>\n",
       "                        <td id=\"T_aa7aaf14_39e7_11ea_a1fe_3c15c2d6648erow5_col0\" class=\"data row5 col0\" >11</td>\n",
       "                        <td id=\"T_aa7aaf14_39e7_11ea_a1fe_3c15c2d6648erow5_col1\" class=\"data row5 col1\" >20</td>\n",
       "                        <td id=\"T_aa7aaf14_39e7_11ea_a1fe_3c15c2d6648erow5_col2\" class=\"data row5 col2\" >6.9e+03</td>\n",
       "            </tr>\n",
       "    </tbody></table>"
      ],
      "text/plain": [
       "<pandas.io.formats.style.Styler at 0x12244c910>"
      ]
     },
     "execution_count": 44,
     "metadata": {},
     "output_type": "execute_result"
    }
   ],
   "source": [
    "# display a rounded dataframe - 2\n",
    "df.style.set_precision(2)"
   ]
  },
  {
   "cell_type": "code",
   "execution_count": 47,
   "metadata": {},
   "outputs": [
    {
     "data": {
      "text/html": [
       "<div>\n",
       "<style scoped>\n",
       "    .dataframe tbody tr th:only-of-type {\n",
       "        vertical-align: middle;\n",
       "    }\n",
       "\n",
       "    .dataframe tbody tr th {\n",
       "        vertical-align: top;\n",
       "    }\n",
       "\n",
       "    .dataframe thead th {\n",
       "        text-align: right;\n",
       "    }\n",
       "</style>\n",
       "<table border=\"1\" class=\"dataframe\">\n",
       "  <thead>\n",
       "    <tr style=\"text-align: right;\">\n",
       "      <th></th>\n",
       "      <th>h</th>\n",
       "      <th>D</th>\n",
       "      <th>V</th>\n",
       "    </tr>\n",
       "  </thead>\n",
       "  <tbody>\n",
       "    <tr>\n",
       "      <th>0</th>\n",
       "      <td>10.1</td>\n",
       "      <td>20.0</td>\n",
       "      <td>6346.017160</td>\n",
       "    </tr>\n",
       "    <tr>\n",
       "      <th>1</th>\n",
       "      <td>11.0</td>\n",
       "      <td>23.3</td>\n",
       "      <td>9380.465796</td>\n",
       "    </tr>\n",
       "    <tr>\n",
       "      <th>2</th>\n",
       "      <td>9.0</td>\n",
       "      <td>21.4</td>\n",
       "      <td>6474.256972</td>\n",
       "    </tr>\n",
       "    <tr>\n",
       "      <th>3</th>\n",
       "      <td>12.0</td>\n",
       "      <td>22.3</td>\n",
       "      <td>9373.695664</td>\n",
       "    </tr>\n",
       "    <tr>\n",
       "      <th>4</th>\n",
       "      <td>10.0</td>\n",
       "      <td>22.0</td>\n",
       "      <td>7602.654222</td>\n",
       "    </tr>\n",
       "    <tr>\n",
       "      <th>5</th>\n",
       "      <td>11.2</td>\n",
       "      <td>19.8</td>\n",
       "      <td>6897.127910</td>\n",
       "    </tr>\n",
       "  </tbody>\n",
       "</table>\n",
       "</div>"
      ],
      "text/plain": [
       "      h     D            V\n",
       "0  10.1  20.0  6346.017160\n",
       "1  11.0  23.3  9380.465796\n",
       "2   9.0  21.4  6474.256972\n",
       "3  12.0  22.3  9373.695664\n",
       "4  10.0  22.0  7602.654222\n",
       "5  11.2  19.8  6897.127910"
      ]
     },
     "execution_count": 47,
     "metadata": {},
     "output_type": "execute_result"
    }
   ],
   "source": [
    "# Note: the dataframe still contains the original (not rounded) values\n",
    "# Important because calculations on elements should always be done **before** rounding\n",
    "df"
   ]
  },
  {
   "cell_type": "code",
   "execution_count": null,
   "metadata": {},
   "outputs": [],
   "source": []
  }
 ],
 "metadata": {
  "kernelspec": {
   "display_name": "Python 3",
   "language": "python",
   "name": "python3"
  },
  "language_info": {
   "codemirror_mode": {
    "name": "ipython",
    "version": 3
   },
   "file_extension": ".py",
   "mimetype": "text/x-python",
   "name": "python",
   "nbconvert_exporter": "python",
   "pygments_lexer": "ipython3",
   "version": "3.7.6"
  }
 },
 "nbformat": 4,
 "nbformat_minor": 4
}
